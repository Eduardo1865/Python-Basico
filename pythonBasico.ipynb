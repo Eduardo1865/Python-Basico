{
 "cells": [
  {
   "cell_type": "markdown",
   "id": "a4cb1441",
   "metadata": {},
   "source": [
    "hello world"
   ]
  },
  {
   "cell_type": "code",
   "execution_count": 81,
   "id": "8430530f",
   "metadata": {},
   "outputs": [
    {
     "name": "stdout",
     "output_type": "stream",
     "text": [
      "ola mundo\n"
     ]
    }
   ],
   "source": [
    "print('ola mundo')"
   ]
  },
  {
   "cell_type": "markdown",
   "id": "51327947",
   "metadata": {},
   "source": [
    "variaveis"
   ]
  },
  {
   "cell_type": "code",
   "execution_count": 82,
   "id": "a36d0cad",
   "metadata": {},
   "outputs": [
    {
     "name": "stdout",
     "output_type": "stream",
     "text": [
      "Hello Eduardo\n",
      "you are 21 years old\n",
      "the price is 3.99 dollars\n",
      "you are a student\n"
     ]
    }
   ],
   "source": [
    "#strings\n",
    "first_name = 'Eduardo'\n",
    "food = 'bolo'\n",
    "email = 'eduardo@gmail.com'\n",
    "\n",
    "#Integer\n",
    "age = 21\n",
    "quantity = 3\n",
    "num_of_students = 10\n",
    "\n",
    "#Float\n",
    "price = 3.99\n",
    "gpa = 2.2\n",
    "distance = 7.5\n",
    "\n",
    "#Boolean\n",
    "is_student = True\n",
    "\n",
    "\n",
    "print(f\"Hello {first_name}\") #f-strings são uma forma de formatar strings\n",
    "print(f\"you are {age} years old\") \n",
    "print(f\"the price is {price} dollars\")\n",
    "if is_student: #sempre lembrar de usar dois pontos no final da condição\n",
    "    print(\"you are a student\") #atenção na identação parte iportante\n",
    "else:\n",
    "    print(\"nah\")\n",
    "\n"
   ]
  },
  {
   "cell_type": "markdown",
   "id": "be1de65e",
   "metadata": {},
   "source": [
    "type casting"
   ]
  },
  {
   "cell_type": "code",
   "execution_count": 83,
   "id": "15f46939",
   "metadata": {},
   "outputs": [
    {
     "name": "stdout",
     "output_type": "stream",
     "text": [
      "<class 'str'>\n",
      "2\n",
      "21.0\n",
      "21.0\n",
      "<class 'str'>\n",
      "True\n"
     ]
    }
   ],
   "source": [
    "#type casting é a conversão de um tipo de dado para outro\n",
    "name =\"Eduardo\"\n",
    "idade = 21\n",
    "media = 2.2\n",
    "eh_estudante = True\n",
    "\n",
    "print(type(name)) #função que retorna o tipo de dado\n",
    "\n",
    "media = int(media) \n",
    "\n",
    "print(media)\n",
    "\n",
    "idade = float(idade) \n",
    "\n",
    "print(idade)\n",
    "\n",
    "idade = str(idade)\n",
    "print(idade)\n",
    "print(type(idade))\n",
    "\n",
    "name = bool(name)  #com isso aqui da pra fazer um teste de que se o alguem digitar algo no input ele vai retornar True\n",
    "print(name)  "
   ]
  },
  {
   "cell_type": "markdown",
   "id": "ee30f448",
   "metadata": {},
   "source": [
    "input"
   ]
  },
  {
   "cell_type": "code",
   "execution_count": null,
   "id": "688fbc13",
   "metadata": {},
   "outputs": [
    {
     "ename": "KeyboardInterrupt",
     "evalue": "Interrupted by user",
     "output_type": "error",
     "traceback": [
      "\u001b[1;31m---------------------------------------------------------------------------\u001b[0m",
      "\u001b[1;31mKeyboardInterrupt\u001b[0m                         Traceback (most recent call last)",
      "Cell \u001b[1;32mIn[84], line 1\u001b[0m\n\u001b[1;32m----> 1\u001b[0m nome \u001b[38;5;241m=\u001b[39m \u001b[38;5;28;43minput\u001b[39;49m\u001b[43m(\u001b[49m\u001b[38;5;124;43m\"\u001b[39;49m\u001b[38;5;124;43mqual seu nome?\u001b[39;49m\u001b[38;5;124;43m\"\u001b[39;49m\u001b[43m)\u001b[49m\n\u001b[0;32m      2\u001b[0m idade \u001b[38;5;241m=\u001b[39m \u001b[38;5;28mint\u001b[39m(\u001b[38;5;28minput\u001b[39m(\u001b[38;5;124m\"\u001b[39m\u001b[38;5;124mqual sua idade?: \u001b[39m\u001b[38;5;124m\"\u001b[39m))\n\u001b[0;32m      4\u001b[0m idade\u001b[38;5;241m+\u001b[39m\u001b[38;5;241m=\u001b[39m\u001b[38;5;241m1\u001b[39m\n",
      "File \u001b[1;32m~\\AppData\\Roaming\\Python\\Python312\\site-packages\\ipykernel\\kernelbase.py:1282\u001b[0m, in \u001b[0;36mKernel.raw_input\u001b[1;34m(self, prompt)\u001b[0m\n\u001b[0;32m   1280\u001b[0m     msg \u001b[38;5;241m=\u001b[39m \u001b[38;5;124m\"\u001b[39m\u001b[38;5;124mraw_input was called, but this frontend does not support input requests.\u001b[39m\u001b[38;5;124m\"\u001b[39m\n\u001b[0;32m   1281\u001b[0m     \u001b[38;5;28;01mraise\u001b[39;00m StdinNotImplementedError(msg)\n\u001b[1;32m-> 1282\u001b[0m \u001b[38;5;28;01mreturn\u001b[39;00m \u001b[38;5;28;43mself\u001b[39;49m\u001b[38;5;241;43m.\u001b[39;49m\u001b[43m_input_request\u001b[49m\u001b[43m(\u001b[49m\n\u001b[0;32m   1283\u001b[0m \u001b[43m    \u001b[49m\u001b[38;5;28;43mstr\u001b[39;49m\u001b[43m(\u001b[49m\u001b[43mprompt\u001b[49m\u001b[43m)\u001b[49m\u001b[43m,\u001b[49m\n\u001b[0;32m   1284\u001b[0m \u001b[43m    \u001b[49m\u001b[38;5;28;43mself\u001b[39;49m\u001b[38;5;241;43m.\u001b[39;49m\u001b[43m_parent_ident\u001b[49m\u001b[43m[\u001b[49m\u001b[38;5;124;43m\"\u001b[39;49m\u001b[38;5;124;43mshell\u001b[39;49m\u001b[38;5;124;43m\"\u001b[39;49m\u001b[43m]\u001b[49m\u001b[43m,\u001b[49m\n\u001b[0;32m   1285\u001b[0m \u001b[43m    \u001b[49m\u001b[38;5;28;43mself\u001b[39;49m\u001b[38;5;241;43m.\u001b[39;49m\u001b[43mget_parent\u001b[49m\u001b[43m(\u001b[49m\u001b[38;5;124;43m\"\u001b[39;49m\u001b[38;5;124;43mshell\u001b[39;49m\u001b[38;5;124;43m\"\u001b[39;49m\u001b[43m)\u001b[49m\u001b[43m,\u001b[49m\n\u001b[0;32m   1286\u001b[0m \u001b[43m    \u001b[49m\u001b[43mpassword\u001b[49m\u001b[38;5;241;43m=\u001b[39;49m\u001b[38;5;28;43;01mFalse\u001b[39;49;00m\u001b[43m,\u001b[49m\n\u001b[0;32m   1287\u001b[0m \u001b[43m\u001b[49m\u001b[43m)\u001b[49m\n",
      "File \u001b[1;32m~\\AppData\\Roaming\\Python\\Python312\\site-packages\\ipykernel\\kernelbase.py:1325\u001b[0m, in \u001b[0;36mKernel._input_request\u001b[1;34m(self, prompt, ident, parent, password)\u001b[0m\n\u001b[0;32m   1322\u001b[0m \u001b[38;5;28;01mexcept\u001b[39;00m \u001b[38;5;167;01mKeyboardInterrupt\u001b[39;00m:\n\u001b[0;32m   1323\u001b[0m     \u001b[38;5;66;03m# re-raise KeyboardInterrupt, to truncate traceback\u001b[39;00m\n\u001b[0;32m   1324\u001b[0m     msg \u001b[38;5;241m=\u001b[39m \u001b[38;5;124m\"\u001b[39m\u001b[38;5;124mInterrupted by user\u001b[39m\u001b[38;5;124m\"\u001b[39m\n\u001b[1;32m-> 1325\u001b[0m     \u001b[38;5;28;01mraise\u001b[39;00m \u001b[38;5;167;01mKeyboardInterrupt\u001b[39;00m(msg) \u001b[38;5;28;01mfrom\u001b[39;00m \u001b[38;5;28;01mNone\u001b[39;00m\n\u001b[0;32m   1326\u001b[0m \u001b[38;5;28;01mexcept\u001b[39;00m \u001b[38;5;167;01mException\u001b[39;00m:\n\u001b[0;32m   1327\u001b[0m     \u001b[38;5;28mself\u001b[39m\u001b[38;5;241m.\u001b[39mlog\u001b[38;5;241m.\u001b[39mwarning(\u001b[38;5;124m\"\u001b[39m\u001b[38;5;124mInvalid Message:\u001b[39m\u001b[38;5;124m\"\u001b[39m, exc_info\u001b[38;5;241m=\u001b[39m\u001b[38;5;28;01mTrue\u001b[39;00m)\n",
      "\u001b[1;31mKeyboardInterrupt\u001b[0m: Interrupted by user"
     ]
    }
   ],
   "source": [
    "nome = input(\"qual seu nome?\")\n",
    "idade = int(input(\"qual sua idade?: \"))\n",
    "\n",
    "idade+=1\n",
    "print(f\"eae {nome}\")\n",
    "print(f\"você ja tem {idade} anos? wtf\")\n",
    "\n",
    "#area do retangulo\n",
    "lado1 = float(input(\"lado1=\"))\n",
    "lado2 = float(input(\"lado2=\"))\n",
    "\n",
    "area = lado1*lado2\n",
    "\n",
    "print(f\"area {area}\")"
   ]
  },
  {
   "cell_type": "markdown",
   "id": "8a9afa77",
   "metadata": {},
   "source": [
    "matemática e aritmética"
   ]
  },
  {
   "cell_type": "code",
   "execution_count": null,
   "id": "c257bbff",
   "metadata": {},
   "outputs": [
    {
     "name": "stdout",
     "output_type": "stream",
     "text": [
      "81.0\n",
      "1.0\n",
      "3\n",
      "4\n",
      "8\n",
      "5\n",
      "-4\n",
      "3.141592653589793\n",
      "2.718281828459045\n",
      "3.0\n",
      "4\n",
      "3\n",
      "o resultado é 12.566370614359172\n"
     ]
    }
   ],
   "source": [
    "import math as mt\n",
    "\n",
    "#basico\n",
    "portas = 10\n",
    "portas +=1\n",
    "portas -=2\n",
    "portas *= 3\n",
    "portas /= 3\n",
    "portas **=2\n",
    "resto = portas%2\n",
    "print(portas)\n",
    "print(resto)\n",
    "\n",
    "#funcoes basicas\n",
    "x = 3.14\n",
    "y = -4\n",
    "z = 5\n",
    "\n",
    "result1 = round(x) #arredondou\n",
    "\n",
    "result2 = abs(y) #valor absoluto\n",
    "\n",
    "result3 = pow(2,3) #potencia\n",
    "\n",
    "result4 = max(x,y,z) #sort de valor maximo\n",
    "\n",
    "result5 = min(x,y,z) #sort de valor maximo\n",
    "\n",
    "print(result1)\n",
    "print(result2)\n",
    "print(result3)\n",
    "print(result4)\n",
    "print(result5)\n",
    "\n",
    "#funcoes do math\n",
    "print(mt.pi)\n",
    "print(mt.e)\n",
    "\n",
    "result6 = mt.sqrt(9)\n",
    "result7 = mt.ceil(3.2)\n",
    "result8 = mt.floor(3.2)\n",
    "print(result6)\n",
    "print(result7)\n",
    "print(result8)\n",
    "\n",
    "\n",
    "#circulo\n",
    "raio = float(input(\"raio:\"))\n",
    "\n",
    "print(f\"o resultado é {2*raio*mt.pi}\")"
   ]
  },
  {
   "cell_type": "markdown",
   "id": "7048fbbf",
   "metadata": {},
   "source": [
    "Ifs e Elses"
   ]
  },
  {
   "cell_type": "code",
   "execution_count": null,
   "id": "3bcd8c79",
   "metadata": {},
   "outputs": [
    {
     "name": "stdout",
     "output_type": "stream",
     "text": [
      "morreu\n",
      "nss\n"
     ]
    }
   ],
   "source": [
    "idade = int(input(\"idade:\"))\n",
    "\n",
    "\n",
    "if idade >=100:\n",
    "    print(\"morreu\")\n",
    "elif idade >= 18:\n",
    "    print(\"maior de idade\")\n",
    "elif idade <= 0:\n",
    "    print(\"ta pra nascer\")\n",
    "else:\n",
    "    print(\"de menor\")\n",
    "\n",
    "\n",
    "resposta = input(\"você não aguenta mais? (S/N):\")\n",
    "\n",
    "if resposta == \"S\":\n",
    "    print(\"nss\")\n",
    "\n",
    "if resposta == \"N\":\n",
    "    print(\"blz\")\n"
   ]
  },
  {
   "cell_type": "markdown",
   "id": "142ef3f0",
   "metadata": {},
   "source": [
    "Logical Operators"
   ]
  },
  {
   "cell_type": "code",
   "execution_count": null,
   "id": "db70e951",
   "metadata": {},
   "outputs": [
    {
     "name": "stdout",
     "output_type": "stream",
     "text": [
      "The outdoor event is cancelled\n",
      "FRIO\n"
     ]
    }
   ],
   "source": [
    "temp = -12\n",
    "is_raining = True\n",
    "\n",
    "if temp > 35 or temp < 0 or is_raining:\n",
    "    print(\"The outdoor event is cancelled\")\n",
    "else:\n",
    "    print(\"deu bom\")\n",
    "\n",
    "is_sunny = False\n",
    "\n",
    "if temp >=28 and is_sunny:\n",
    "    print(\"CALOOOOR\")\n",
    "elif temp <= 0 and is_sunny:\n",
    "    print(\"friozinho\")\n",
    "\n",
    "if temp >=28 and not is_sunny:\n",
    "    print(\"calorzinho\")\n",
    "elif temp <= 0 and  not is_sunny:\n",
    "    print(\"FRIO\")"
   ]
  },
  {
   "cell_type": "markdown",
   "id": "4d50414a",
   "metadata": {},
   "source": [
    "Expressões condicionais"
   ]
  },
  {
   "cell_type": "code",
   "execution_count": null,
   "id": "6717aa78",
   "metadata": {},
   "outputs": [
    {
     "name": "stdout",
     "output_type": "stream",
     "text": [
      "Negatibo\n",
      "IMPAR\n"
     ]
    }
   ],
   "source": [
    "num = -5\n",
    "\n",
    "print(\"Positibo\" if num > 0 else \"Negatibo\")\n",
    "\n",
    "result1 = \"PAR\" if num %2 == 0 else \"IMPAR\"\n",
    "\n",
    "print(result1)"
   ]
  },
  {
   "cell_type": "markdown",
   "id": "b5d9e773",
   "metadata": {},
   "source": [
    "String Methods"
   ]
  },
  {
   "cell_type": "code",
   "execution_count": null,
   "id": "9877b4b2",
   "metadata": {},
   "outputs": [
    {
     "name": "stdout",
     "output_type": "stream",
     "text": [
      "6\n",
      "-1\n",
      "-1\n",
      "Sdfsdf\n",
      "SDFSDF\n",
      "sdfsdf\n",
      "False\n",
      "True\n",
      "0\n",
      "123123\n"
     ]
    }
   ],
   "source": [
    "name = input(\"Enter your full name: \")\n",
    "\n",
    "numero = input(\"entra o numero: \")\n",
    "\n",
    "print(len(name))\n",
    "print(name.find(\" \")) #encontra a posição da primeira ocorrencia da string\n",
    "print(name.rfind(\" \")) #encontra a posição da ultima ocorrencia\n",
    "print(name.capitalize())\n",
    "print(name.upper())\n",
    "print(name.lower())\n",
    "print(name.isdigit())\n",
    "print(name.isalpha())\n",
    "print(numero.count(\"-\"))\n",
    "print(numero.replace(\"-\",\"AAAAAAAAAAAA\"))\n",
    "#print(help(str))"
   ]
  },
  {
   "cell_type": "code",
   "execution_count": null,
   "id": "40f58ac0",
   "metadata": {},
   "outputs": [
    {
     "name": "stdout",
     "output_type": "stream",
     "text": [
      "INVALIDO\n"
     ]
    }
   ],
   "source": [
    "nome = input(\"fala nome: \")\n",
    "\n",
    "if len(nome) > 12:\n",
    "    print(\"invalido\")\n",
    "\n",
    "elif nome.count(\" \") > 0:\n",
    "    print(\"invalido\")\n",
    "\n",
    "elif not nome.isalpha():\n",
    "    print(\"INVALIDO\")"
   ]
  },
  {
   "cell_type": "markdown",
   "id": "857a85c1",
   "metadata": {},
   "source": [
    "Indexing"
   ]
  },
  {
   "cell_type": "code",
   "execution_count": null,
   "id": "0d29b5d5",
   "metadata": {},
   "outputs": [
    {
     "name": "stdout",
     "output_type": "stream",
     "text": [
      "1\n",
      "1313\n",
      "9\n",
      "132-829\n"
     ]
    }
   ],
   "source": [
    "numerocred = \"1313-1234-9483-2849\"\n",
    "\n",
    "print(numerocred[0])\n",
    "print(numerocred[0:4]) # : vai do 0 até o 3, exclui o ultimo\n",
    "print(numerocred[-1]) # inverte\n",
    "print(numerocred[::3])"
   ]
  },
  {
   "cell_type": "markdown",
   "id": "d19abd0c",
   "metadata": {},
   "source": [
    "Format specifiers"
   ]
  },
  {
   "cell_type": "code",
   "execution_count": null,
   "id": "0f1766d7",
   "metadata": {},
   "outputs": [
    {
     "name": "stdout",
     "output_type": "stream",
     "text": [
      "Preço 1 é 3.1\n",
      "Preço 2 é   -9870.65\n",
      "Preço 3 é 0000012.34\n",
      "Preço 1 é 3.14159   \n",
      "Preço 2 é   -9870.65\n",
      "Preço 3 é   12.34   \n",
      "Preço 1 é +3.14159\n",
      "Preço 2 é -9870.65\n",
      "Preço 1 é  3.14159\n",
      "Preço 2 é -9870.65\n",
      "Preço 2 é -9,870.65\n",
      "Preco 1 é +3.14\n"
     ]
    }
   ],
   "source": [
    "preco1 = 3.14159\n",
    "preco2 = -9870.65\n",
    "preco3 = 12.34\n",
    "\n",
    "print(f\"Preço 1 é {preco1:.1f}\")#coloca o : como flag, coloca o . pra mostrar q é decimal e numero de casas dps da virgula e o f de float\n",
    "print(f\"Preço 2 é {preco2:10}\")#colocando só o : da pra colocar espaços\n",
    "print(f\"Preço 3 é {preco3:010}\")#colocando o :0 0 no lugar dos espaços\n",
    "print(f\"Preço 1 é {preco1:<10}\")#justificado pra esquerda\n",
    "print(f\"Preço 2 é {preco2:>10}\")#justificar pra direita\n",
    "print(f\"Preço 3 é {preco3:^10}\")#centralizado\n",
    "print(f\"Preço 1 é {preco1:+}\")#com sinal\n",
    "print(f\"Preço 2 é {preco2:+}\")\n",
    "print(f\"Preço 1 é {preco1: }\")#com sinal só pra negativo\n",
    "print(f\"Preço 2 é {preco2: }\")\n",
    "print(f\"Preço 2 é {preco2:,}\")#separa com virgula\n",
    "print(f\"Preco 1 é {preco1:<+.2f}\")"
   ]
  },
  {
   "cell_type": "markdown",
   "id": "2e21c441",
   "metadata": {},
   "source": [
    "While\n"
   ]
  },
  {
   "cell_type": "code",
   "execution_count": null,
   "id": "4bedf34e",
   "metadata": {},
   "outputs": [
    {
     "name": "stdout",
     "output_type": "stream",
     "text": [
      "ola asdas\n",
      "OMNOMNOMNOM OUTRA\n",
      "OMNOMNOMNOM OUTRA\n",
      "OMNOMNOMNOM OUTRA\n",
      "OMNOMNOMNOM OUTRA\n",
      "OMNOMNOMNOM OUTRA\n",
      "OMNOMNOMNOM OUTRA\n",
      "vlw\n"
     ]
    }
   ],
   "source": [
    "nome = input(\"Enter seu nome: \")\n",
    "\n",
    "while nome == \"\":\n",
    "    print(\"nao coloco nome\")\n",
    "    nome = input(\"COLOCA NOME:\")\n",
    "\n",
    "print(f\"ola {nome}\")\n",
    "\n",
    "comida = input(\"COME COMIDA QUAL: \")\n",
    "while not comida == \"q\":\n",
    "    print(f\"OMNOMNOMNOM OUTRA\")\n",
    "    comida = input(\"COME COMIDA QUAL OUTRA: \")\n",
    "\n",
    "print(\"vlw\")\n"
   ]
  },
  {
   "cell_type": "markdown",
   "id": "00b8a55f",
   "metadata": {},
   "source": [
    "For loop"
   ]
  },
  {
   "cell_type": "code",
   "execution_count": null,
   "id": "c14dbbbe",
   "metadata": {},
   "outputs": [
    {
     "name": "stdout",
     "output_type": "stream",
     "text": [
      "1\n",
      "2\n",
      "3\n",
      "4\n",
      "5\n",
      "6\n",
      "7\n",
      "8\n",
      "9\n",
      "10\n",
      "11\n",
      "12\n",
      "14\n",
      "15\n",
      "16\n",
      "17\n",
      "18\n",
      "19\n",
      "20\n"
     ]
    }
   ],
   "source": [
    "#for i in range(1,11):\n",
    "#    print(i)\n",
    "\n",
    "#for i in reversed(range(1,11)):\n",
    "#    print(i)\n",
    "\n",
    "#for i in range(1,11,2):\n",
    "#    print(i)\n",
    "\n",
    "credito = \"1234-5678-9101-1121\"\n",
    "\n",
    "#credito = credito.replace(\"-\",\"\")\n",
    "#for i in credito:\n",
    "#    print(i)\n",
    "\n",
    "for i in range(1,21):\n",
    "    if i == 13:\n",
    "        continue\n",
    "    else:\n",
    "        print(i)"
   ]
  },
  {
   "cell_type": "markdown",
   "id": "7c096ea3",
   "metadata": {},
   "source": [
    "Timer"
   ]
  },
  {
   "cell_type": "code",
   "execution_count": null,
   "id": "531f1adb",
   "metadata": {},
   "outputs": [
    {
     "name": "stdout",
     "output_type": "stream",
     "text": [
      "00:02:00\n",
      "00:01:59\n",
      "00:01:58\n",
      "00:01:57\n",
      "00:01:56\n",
      "00:01:55\n",
      "00:01:54\n",
      "00:01:53\n",
      "00:01:52\n",
      "00:01:51\n",
      "00:01:50\n",
      "00:01:49\n",
      "00:01:48\n",
      "00:01:47\n",
      "00:01:46\n",
      "00:01:45\n",
      "00:01:44\n",
      "00:01:43\n",
      "00:01:42\n",
      "00:01:41\n",
      "00:01:40\n",
      "00:01:39\n",
      "00:01:38\n",
      "00:01:37\n",
      "00:01:36\n",
      "00:01:35\n",
      "00:01:34\n",
      "00:01:33\n",
      "00:01:32\n",
      "00:01:31\n",
      "00:01:30\n",
      "00:01:29\n",
      "00:01:28\n",
      "00:01:27\n",
      "00:01:26\n",
      "00:01:25\n",
      "00:01:24\n",
      "00:01:23\n",
      "00:01:22\n",
      "00:01:21\n",
      "00:01:20\n",
      "00:01:19\n",
      "00:01:18\n",
      "00:01:17\n",
      "00:01:16\n",
      "00:01:15\n",
      "00:01:14\n",
      "00:01:13\n",
      "00:01:12\n",
      "00:01:11\n",
      "00:01:10\n",
      "00:01:09\n",
      "00:01:08\n",
      "00:01:07\n",
      "00:01:06\n",
      "00:01:05\n",
      "00:01:04\n",
      "00:01:03\n",
      "00:01:02\n",
      "00:01:01\n",
      "00:01:00\n",
      "00:00:59\n",
      "00:00:58\n",
      "00:00:57\n",
      "00:00:56\n",
      "00:00:55\n",
      "00:00:54\n",
      "00:00:53\n",
      "00:00:52\n",
      "00:00:51\n",
      "00:00:50\n",
      "00:00:49\n",
      "00:00:48\n",
      "00:00:47\n",
      "00:00:46\n",
      "00:00:45\n",
      "00:00:44\n",
      "00:00:43\n",
      "00:00:42\n",
      "00:00:41\n",
      "00:00:40\n",
      "00:00:39\n",
      "00:00:38\n",
      "00:00:37\n",
      "00:00:36\n",
      "00:00:35\n",
      "00:00:34\n",
      "00:00:33\n",
      "00:00:32\n",
      "00:00:31\n",
      "00:00:30\n",
      "00:00:29\n",
      "00:00:28\n",
      "00:00:27\n",
      "00:00:26\n",
      "00:00:25\n",
      "00:00:24\n",
      "00:00:23\n",
      "00:00:22\n",
      "00:00:21\n",
      "00:00:20\n",
      "00:00:19\n",
      "00:00:18\n",
      "00:00:17\n",
      "00:00:16\n",
      "00:00:15\n",
      "00:00:14\n",
      "00:00:13\n",
      "00:00:12\n",
      "00:00:11\n",
      "00:00:10\n",
      "00:00:09\n",
      "00:00:08\n",
      "00:00:07\n",
      "00:00:06\n",
      "00:00:05\n",
      "00:00:04\n",
      "00:00:03\n",
      "00:00:02\n",
      "00:00:01\n",
      "ACABOU O TEMPO\n"
     ]
    }
   ],
   "source": [
    "import time as tm\n",
    "\n",
    "my_time = int(input(\"quanto tempo?: \"))\n",
    "\n",
    "#for i in range(0,my_time):\n",
    "#    print(i+1)\n",
    "#    tm.sleep(1)\n",
    "\n",
    "#for i in range(my_time,0,-1):\n",
    "#    print(i)\n",
    "#    tm.sleep(1)\n",
    "\n",
    "for i in range(my_time,0,-1):\n",
    "    seconds = i%60\n",
    "    minutes = int(i/60)\n",
    "    hours = int(i/3600)\n",
    "    print(f\"{hours:02}:{minutes:02}:{seconds:02}\")\n",
    "    tm.sleep(1)\n",
    "\n",
    "print(\"ACABOU O TEMPO\")"
   ]
  },
  {
   "cell_type": "markdown",
   "id": "e0fe1f5e",
   "metadata": {},
   "source": [
    "Nested loop"
   ]
  },
  {
   "cell_type": "code",
   "execution_count": null,
   "id": "2ec66b4c",
   "metadata": {},
   "outputs": [
    {
     "name": "stdout",
     "output_type": "stream",
     "text": [
      "123456789\n",
      "123456789\n",
      "123456789\n",
      "ooooo\n",
      "ooooo\n",
      "ooooo\n",
      "ooooo\n",
      "ooooo\n"
     ]
    }
   ],
   "source": [
    "for i in range(0,3):\n",
    "    for j in range(1,10):\n",
    "        print(j, end=\"\")\n",
    "    print()\n",
    "\n",
    "rows = int(input(\"linhas: \"))\n",
    "columns = int(input(\"colunas: \"))\n",
    "symbol = input(\"simbolo: \")\n",
    "\n",
    "for i in range(rows):\n",
    "    for j in range(columns):\n",
    "        print(symbol, end=\"\")\n",
    "    print()\n"
   ]
  },
  {
   "cell_type": "markdown",
   "id": "cc1968a7",
   "metadata": {},
   "source": [
    "listas, conjuntos e tuplas"
   ]
  },
  {
   "cell_type": "code",
   "execution_count": null,
   "id": "5fa28854",
   "metadata": {},
   "outputs": [
    {
     "name": "stdout",
     "output_type": "stream",
     "text": [
      "['maca', 'oranja', 'bornana', 'coconoz']\n",
      "maca\n",
      "['oranja', 'bornana']\n",
      "['maca', 'bornana']\n",
      "['coconoz', 'bornana', 'oranja', 'maca']\n",
      "2\n",
      "0\n",
      "tomat\n",
      "tomat\n",
      "oranja\n",
      "macapinha\n",
      "macadepinha\n",
      "bornana\n",
      "6\n",
      "False\n"
     ]
    }
   ],
   "source": [
    "\n",
    "#Listas - ordenado e mutavel\n",
    "frutas = [\"maca\", \"oranja\", \"bornana\", \"coconoz\"] \n",
    "\n",
    "print(frutas)\n",
    "print(frutas[0])\n",
    "print(frutas[1:3])\n",
    "print(frutas[::2])\n",
    "print(frutas[::-1])\n",
    "#print(dir(frutas))\n",
    "#print(help(frutas))\n",
    "frutas[0] = \"macadepinha\"\n",
    "frutas.append(\"macapinha\")\n",
    "frutas.remove(\"coconoz\")\n",
    "frutas.insert(2,\"tomat\") #aceita duplicata\n",
    "frutas.insert(1,\"tomat\")\n",
    "frutas.sort()\n",
    "frutas.reverse()\n",
    "print(frutas.count(\"tomat\"))\n",
    "#frutas.clear()\n",
    "print(frutas.index(\"tomat\"))\n",
    "for i in frutas:\n",
    "    print(i)\n",
    "\n",
    "print(len(frutas))\n",
    "print(\"maca\" in frutas)\n",
    "\n",
    "\n"
   ]
  },
  {
   "cell_type": "code",
   "execution_count": null,
   "id": "3fbf43a9",
   "metadata": {},
   "outputs": [
    {
     "name": "stdout",
     "output_type": "stream",
     "text": [
      "{'coconoz', 'bornana', 'maca', 'macapinha'}\n"
     ]
    }
   ],
   "source": [
    "#Conjuntos - não ordenado e imutavel - não aceita duplicatas\n",
    "frutas = {\"maca\", \"maca\" , \"oranja\", \"bornana\", \"coconoz\"}\n",
    "#print(frutas[0]) - não tem como fazer isso pq não é ordenado\n",
    "frutas.add(\"macapinha\")\n",
    "frutas.remove(\"oranja\")\n",
    "#frutas.pop()\n",
    "#frutas.clear()\n",
    "print(frutas)"
   ]
  },
  {
   "cell_type": "code",
   "execution_count": null,
   "id": "fb3918bb",
   "metadata": {},
   "outputs": [
    {
     "name": "stdout",
     "output_type": "stream",
     "text": [
      "0\n",
      "2\n",
      "('maca', 'maca', 'oranja', 'bornana', 'coconoz')\n"
     ]
    }
   ],
   "source": [
    "#Tuplas - ordenado e imutavel - aceita duplicata \n",
    "frutas = (\"maca\", \"maca\" , \"oranja\", \"bornana\", \"coconoz\")\n",
    "\n",
    "print(frutas.index(\"maca\"))\n",
    "print(frutas.count(\"maca\"))\n",
    "print(frutas)"
   ]
  },
  {
   "cell_type": "markdown",
   "id": "5f6747cc",
   "metadata": {},
   "source": [
    "Lista de compras (Exercicio)"
   ]
  },
  {
   "cell_type": "code",
   "execution_count": null,
   "id": "972723ee",
   "metadata": {},
   "outputs": [
    {
     "name": "stdout",
     "output_type": "stream",
     "text": [
      "----- SEU CARRINHO -----\n",
      "asdas\n",
      "sadsa\n",
      "total: 444.0\n"
     ]
    }
   ],
   "source": [
    "foods = []\n",
    "prices = []\n",
    "total = 0\n",
    "\n",
    "while True:\n",
    "    food = input(\"Qual comida vc quer comprar? (q pra sair): \")\n",
    "    if food.lower() == \"q\":\n",
    "        break\n",
    "    else:\n",
    "        price = float(input(f\"preço de {food}: \"))\n",
    "        foods.append(food)\n",
    "        prices.append(price)\n",
    "print(\"----- SEU CARRINHO -----\")\n",
    "for food in foods:\n",
    "    print(food)\n",
    "for price in prices:\n",
    "    total += price\n",
    "print(f\"total: {total}\")"
   ]
  },
  {
   "cell_type": "markdown",
   "id": "ef5d3a31",
   "metadata": {},
   "source": [
    "Lista 2d"
   ]
  },
  {
   "cell_type": "code",
   "execution_count": 90,
   "id": "435d5f82",
   "metadata": {},
   "outputs": [
    {
     "name": "stdout",
     "output_type": "stream",
     "text": [
      "['maca', 'oranja', 'bornana', 'coconoz']\n",
      "['celerio', 'cenours', 'potata']\n",
      "['galinho', 'fiche', 'pery']\n",
      "maca oranja bornana coconoz \n",
      "celerio cenours potata \n",
      "galinho fiche pery \n",
      "\n",
      "[['maca', 'oranja', 'bornana', 'coconoz'], ['celerio', 'cenours', 'potata'], ['galinho', 'fiche', 'pery']]\n",
      "['maca', 'oranja', 'bornana', 'coconoz']\n",
      "maca\n"
     ]
    }
   ],
   "source": [
    "#frutas =   [\"maca\",\"oranja\",\"bornana\",\"coconoz\"]\n",
    "#vegetais = [\"celerio\"    ,\"cenours\"   ,\"potata\"]\n",
    "#carnes =   [\"galinho\"      ,'fiche'     ,\"pery\"]\n",
    "\n",
    "#compras = [frutas, vegetais, carnes]\n",
    "\n",
    "compras = [[\"maca\",\"oranja\",\"bornana\",\"coconoz\"], \n",
    "           [\"celerio\"    ,\"cenours\"   ,\"potata\"],\n",
    "           [\"galinho\"      ,'fiche'     ,\"pery\"]  ]\n",
    "\n",
    "for collection in compras:\n",
    "    print(collection)\n",
    "\n",
    "for collection in compras:\n",
    "    for food in collection:\n",
    "        print(food, end=\" \")\n",
    "    print()\n",
    "\n",
    "print()\n",
    "\n",
    "print(compras)\n",
    "print(compras[0])\n",
    "print(compras[0][0])"
   ]
  },
  {
   "cell_type": "markdown",
   "id": "e592ab7f",
   "metadata": {},
   "source": [
    "keypad (exercicio)"
   ]
  },
  {
   "cell_type": "code",
   "execution_count": 95,
   "id": "7a061ca1",
   "metadata": {},
   "outputs": [
    {
     "name": "stdout",
     "output_type": "stream",
     "text": [
      "1 2 3 \n",
      "4 5 6 \n",
      "7 8 9 \n",
      "* 0 # \n"
     ]
    }
   ],
   "source": [
    "num_pad = ((1,2,3),\n",
    "           (4,5,6),\n",
    "           (7,8,9),\n",
    "           (\"*\",0,\"#\"))\n",
    "\n",
    "for row in num_pad:\n",
    "    for num in row:\n",
    "        print(num, end = \" \")\n",
    "    print() "
   ]
  },
  {
   "cell_type": "markdown",
   "id": "d9785859",
   "metadata": {},
   "source": [
    "Dicionário"
   ]
  },
  {
   "cell_type": "code",
   "execution_count": 110,
   "id": "02afb10b",
   "metadata": {},
   "outputs": [
    {
     "name": "stdout",
     "output_type": "stream",
     "text": [
      "Brasilia\n",
      "Essa capital existe\n",
      "dict_items([('BRASIL', 'Pouso Alegre'), ('India', 'New Delhi'), ('Russia', 'Moscow')])\n",
      "{'BRASIL': 'Pouso Alegre', 'India': 'New Delhi', 'Russia': 'Moscow'}\n",
      "dict_keys(['BRASIL', 'India', 'Russia'])\n",
      "dict_values(['Pouso Alegre', 'New Delhi', 'Moscow'])\n",
      "BRASIL\n",
      "India\n",
      "Russia\n",
      "Pouso Alegre\n",
      "New Delhi\n",
      "Moscow\n",
      "BRASIL:Pouso Alegre\n",
      "India:New Delhi\n",
      "Russia:Moscow\n"
     ]
    }
   ],
   "source": [
    "capitais = {\"BRASIL\":\"Brasilia\",\n",
    "            \"India\": \"New Delhi\",\n",
    "            \"China\": \"Beijing\",\n",
    "            \"Russia\": \"Moscow\"}\n",
    "\n",
    "print(capitais.get(\"BRASIL\"))\n",
    "\n",
    "if capitais.get(\"Russia\"):\n",
    "    print(\"Essa capital existe\")\n",
    "else: \n",
    "    print(\"Essa capital NÃO existe\")\n",
    "\n",
    "capitais.update({\"Germany\":\"Berlin\"})\n",
    "capitais.update({\"BRASIL\":\"Pouso Alegre\"})\n",
    "capitais.pop(\"China\")\n",
    "capitais.popitem()\n",
    "#capitais.clear()\n",
    "\n",
    "keys = capitais.keys()\n",
    "values = capitais.values()\n",
    "items = capitais.items()\n",
    "\n",
    "print(items)\n",
    "print(capitais)\n",
    "print(keys)\n",
    "print(values)\n",
    "\n",
    "for key in capitais.keys():\n",
    "    print(key)\n",
    "\n",
    "for values in capitais.values():\n",
    "    print(values)\n",
    "\n",
    "for key, value in capitais.items():\n",
    "    print(f\"{key}:{value}\")"
   ]
  },
  {
   "cell_type": "markdown",
   "id": "8eca24d0",
   "metadata": {},
   "source": [
    "Numeros aleatórios"
   ]
  },
  {
   "cell_type": "code",
   "execution_count": 120,
   "id": "19fb5707",
   "metadata": {},
   "outputs": [
    {
     "name": "stdout",
     "output_type": "stream",
     "text": [
      "92\n",
      "0.8304968817019249\n",
      "rock\n",
      "['6', '10', '7', '3', '1', 'A', 'Q', '5', 'J', '4', '9', '8', 'K', '2']\n"
     ]
    }
   ],
   "source": [
    "import random as rd\n",
    "\n",
    "low = 1\n",
    "high = 100 \n",
    "options = (\"rock\",\"paper\",\"scissors\")\n",
    "cards = [\"1\",\"2\",\"3\",\"4\",\"5\",\"6\",\"7\",\"8\",\"9\",\"10\",\"J\",\"Q\",\"K\",\"A\"]\n",
    "\n",
    "numero = rd.randint(low,high)\n",
    "\n",
    "print(numero)\n",
    "\n",
    "numero = rd.random()\n",
    "\n",
    "option = rd.choice(options)\n",
    "\n",
    "rd.shuffle(cards)\n",
    "\n",
    "print(numero)\n",
    "print(option)\n",
    "print(cards)"
   ]
  },
  {
   "cell_type": "markdown",
   "id": "68c9de0c",
   "metadata": {},
   "source": [
    "Guessing game Exercicio"
   ]
  },
  {
   "cell_type": "code",
   "execution_count": 128,
   "id": "6f8e6266",
   "metadata": {},
   "outputs": [
    {
     "name": "stdout",
     "output_type": "stream",
     "text": [
      "Adivinhe o numero pfv\n",
      "Selecione um numero de 1 até 100\n",
      "Too low! dnv\n",
      "Too low! dnv\n",
      "Too low! dnv\n",
      "Too low! dnv\n",
      "Too low! dnv\n",
      "Too low! dnv\n",
      "Too low! dnv\n",
      "Too low! dnv\n",
      "Too low! dnv\n",
      "Too low! dnv\n",
      "Too low! dnv\n",
      "Too low! dnv\n",
      "Too low! dnv\n",
      "Too low! dnv\n",
      "Too low! dnv\n",
      "Too low! dnv\n",
      "That number is out of range\n",
      "Selecione um numero de 1 até 100\n",
      "That number is out of range\n",
      "Selecione um numero de 1 até 100\n",
      "Too alto! again\n",
      "Too alto! again\n",
      "Too alto! again\n",
      "Too alto! again\n",
      "Too alto! again\n",
      "Too alto! again\n",
      "Too low! dnv\n",
      "Too low! dnv\n",
      "Too low! dnv\n",
      "Too low! dnv\n",
      "Too low! dnv\n",
      "Too alto! again\n",
      "CORRECTO\n",
      "é 28\n"
     ]
    }
   ],
   "source": [
    "import random as rd \n",
    "lowest_num = 1\n",
    "highest_num = 100\n",
    "answer = rd.randint(lowest_num,highest_num)\n",
    "guesses = 0 \n",
    "is_running = True\n",
    "\n",
    "print(\"Adivinhe o numero pfv\")\n",
    "print(f\"Selecione um numero de {lowest_num} até {highest_num}\")\n",
    "\n",
    "while is_running:\n",
    "\n",
    "    guess = input(\"Enter your guess: \")\n",
    "\n",
    "    if guess.isdigit():\n",
    "        guess = int(guess)\n",
    "        guesses +=1\n",
    "\n",
    "        if guess < lowest_num or guess > highest_num:\n",
    "            print(\"That number is out of range\")\n",
    "            print(f\"Selecione um numero de {lowest_num} até {highest_num}\")\n",
    "\n",
    "        elif guess < answer:\n",
    "            print(\"Too low! dnv\")\n",
    "\n",
    "        elif guess > answer:\n",
    "            print(\"Too alto! again\")\n",
    "\n",
    "        else:\n",
    "            print(f\"CORRECTO\") \n",
    "            is_running = False\n",
    "    else:\n",
    "        print(\"vc é invalido\")\n",
    "        print(f\"Selecione um numero de {lowest_num} até {highest_num}\")\n",
    "\n",
    "\n",
    "print(f\"é {answer}\")"
   ]
  },
  {
   "cell_type": "markdown",
   "id": "1920a167",
   "metadata": {},
   "source": [
    "Funções"
   ]
  },
  {
   "cell_type": "markdown",
   "id": "e148cb67",
   "metadata": {},
   "source": [
    "Positional Arguments"
   ]
  },
  {
   "cell_type": "code",
   "execution_count": 2,
   "id": "b0b9750e",
   "metadata": {},
   "outputs": [
    {
     "name": "stdout",
     "output_type": "stream",
     "text": [
      "PRABENS bubi\n",
      "PRABENS 200 já\n",
      "PRABENS\n",
      "\n",
      "3\n",
      "Edaurdo Agusto\n"
     ]
    }
   ],
   "source": [
    "def parabens_pra_vc(nome, idade):\n",
    "    print(f\"PRABENS {nome}\")\n",
    "    print(f\"PRABENS {idade} já\")\n",
    "    print(\"PRABENS\")\n",
    "    print()\n",
    "\n",
    "parabens_pra_vc(\"bubi\",200)\n",
    "\n",
    "def add(x,y):\n",
    "    z = x+y\n",
    "    return z\n",
    "\n",
    "resultad = add(1,2)\n",
    "print(resultad)\n",
    "\n",
    "def create_name(first, last):\n",
    "    first = first.capitalize()\n",
    "    last = last.capitalize()\n",
    "    return first + \" \" + last\n",
    "\n",
    "full_name = create_name(\"edaurdo\",\"agusto\")\n",
    "print(full_name)"
   ]
  },
  {
   "cell_type": "markdown",
   "id": "c2e14389",
   "metadata": {},
   "source": [
    "Default Arguments"
   ]
  },
  {
   "cell_type": "code",
   "execution_count": 10,
   "id": "c90887df",
   "metadata": {},
   "outputs": [
    {
     "name": "stdout",
     "output_type": "stream",
     "text": [
      "525.0\n",
      "472.5\n",
      "450.0\n",
      "0\n",
      "1\n",
      "2\n",
      "3\n",
      "4\n",
      "5\n",
      "DONE!\n"
     ]
    }
   ],
   "source": [
    "import time as tm\n",
    "\n",
    "def net_price(list_price, discount=0, tax=0.05):\n",
    "    return list_price * (1 - discount) * (1 + tax)\n",
    "\n",
    "print(net_price(500))\n",
    "print(net_price(500,0.1))\n",
    "print(net_price(500,0.1,0))\n",
    "\n",
    "def count(end, start=0):\n",
    "    for i in range(start, end+1):\n",
    "        print(i)\n",
    "        tm.sleep(1)\n",
    "    print(\"DONE!\")\n",
    "\n",
    "count(5) "
   ]
  },
  {
   "cell_type": "markdown",
   "id": "4382025f",
   "metadata": {},
   "source": [
    "Keyword arguments"
   ]
  },
  {
   "cell_type": "code",
   "execution_count": 13,
   "id": "4a670e0d",
   "metadata": {},
   "outputs": [
    {
     "name": "stdout",
     "output_type": "stream",
     "text": [
      "oi meu amigo asds esdm\n",
      "1-2-3-4-5\n"
     ]
    }
   ],
   "source": [
    "def hello(greeting, title, first, last):\n",
    "    print(f\"{greeting} {title} {first} {last}\")\n",
    "\n",
    "hello(\"oi\",title=\"meu amigo\",last=\"esdm\",first=\"asds\")\n",
    "\n",
    "print(\"1\",\"2\",\"3\",\"4\",\"5\", sep=\"-\")"
   ]
  },
  {
   "cell_type": "markdown",
   "id": "9693d2c4",
   "metadata": {},
   "source": [
    "arbitrary arguments"
   ]
  },
  {
   "cell_type": "code",
   "execution_count": 23,
   "id": "468dc32d",
   "metadata": {},
   "outputs": [
    {
     "name": "stdout",
     "output_type": "stream",
     "text": [
      "6\n",
      "adsd asfsa asfs \n",
      "street:rua clsad\n",
      "city:asd af\n",
      "state:MG\n",
      "zip:41342\n",
      "\n",
      "Dr. Spongebob Calsacuadrada 12 \n",
      "123 falsa rua 100 Detroit MG 54321 \n",
      "123 falsa rua\n"
     ]
    }
   ],
   "source": [
    "def add(*args):\n",
    "    total = 0\n",
    "    for arg in args:\n",
    "        total += arg\n",
    "    return total\n",
    "\n",
    "print(add(1,2,3))\n",
    "\n",
    "def display_name(*args):\n",
    "    for arg in args:\n",
    "        print(arg, end=\" \")\n",
    "\n",
    "display_name(\"adsd\",\"asfsa\", \"asfs\" )\n",
    "print()\n",
    "\n",
    "def print_address(**kwargs):\n",
    "    for key,value in kwargs.items():\n",
    "        print(f\"{key}:{value}\")\n",
    "\n",
    "print_address(street=\"rua clsad\", \n",
    "              city=\"asd af\",\n",
    "              state=\"MG\",\n",
    "              zip=\"41342\")\n",
    "\n",
    "\n",
    "print()\n",
    "\n",
    "\n",
    "def shipping_label(*args, **kwargs):\n",
    "    for arg in args:\n",
    "        print(arg, end=\" \")\n",
    "    print()\n",
    "    for value in kwargs.values():\n",
    "        print(value, end=\" \")\n",
    "    print()\n",
    "    print(f\"{kwargs.get('street')}\")\n",
    "\n",
    "shipping_label(\"Dr.\", \"Spongebob\", \"Calsacuadrada\", \"12\",\n",
    "               street= \"123 falsa rua\",\n",
    "               apt= \"100\",\n",
    "               city= \"Detroit\",\n",
    "               state= \"MG\",\n",
    "               zip = \"54321\")\n"
   ]
  },
  {
   "cell_type": "markdown",
   "id": "b37e09c0",
   "metadata": {},
   "source": [
    "Iterables"
   ]
  },
  {
   "cell_type": "code",
   "execution_count": 33,
   "id": "49f63265",
   "metadata": {},
   "outputs": [
    {
     "name": "stdout",
     "output_type": "stream",
     "text": [
      "1\n",
      "2\n",
      "3\n",
      "4\n",
      "5\n",
      "\n",
      "A\n",
      "B\n",
      "C\n",
      "\n",
      "1\n",
      "2\n",
      "3\n",
      "\n",
      "('A', 1)\n",
      "('B', 2)\n",
      "('C', 3)\n",
      "A:1\n",
      "B:2\n",
      "C:3\n"
     ]
    }
   ],
   "source": [
    "numbers = [1,2,3,4,5]\n",
    "\n",
    "for number in numbers:\n",
    "    print(number)\n",
    "\n",
    "print()\n",
    "my_dictionary = {\"A\": 1, \"B\": 2, \"C\":3}\n",
    "\n",
    "for key in my_dictionary:\n",
    "    print(key)\n",
    "\n",
    "print()\n",
    "\n",
    "for value in my_dictionary.values():\n",
    "    print(value)\n",
    "\n",
    "print()\n",
    "\n",
    "for items in my_dictionary.items():\n",
    "    print(items)\n",
    "\n",
    "for key,value in my_dictionary.items():\n",
    "    print(f\"{key}:{value}\")"
   ]
  },
  {
   "cell_type": "markdown",
   "id": "f5b1499d",
   "metadata": {},
   "source": [
    "Membership operators"
   ]
  },
  {
   "cell_type": "code",
   "execution_count": 37,
   "id": "1baff1bd",
   "metadata": {},
   "outputs": [
    {
     "name": "stdout",
     "output_type": "stream",
     "text": [
      "There is a A\n",
      "OF is a student\n",
      "OF's grade is B\n"
     ]
    }
   ],
   "source": [
    "word = \"APPLE\"\n",
    "\n",
    "letter = input(\"Guess a letter in the secret word: \")\n",
    "\n",
    "if letter in word:\n",
    "    print(f\"There is a {letter}\")\n",
    "else:\n",
    "    print(f\"{letter} was not found\")\n",
    "\n",
    "students = {\"SCUM\",\"OF\",\"THE\",\"EARTH\"}\n",
    "\n",
    "student = input(\"Enter the name of a student: \")\n",
    "\n",
    "if student in students:\n",
    "    print(f\"{student} is a student\")\n",
    "\n",
    "\n",
    "grades = {\"SCUM\": \"A\", \n",
    "          \"OF\": \"B\",\n",
    "          \"THE\":\"C\", \n",
    "          \"EARTH\":\"D\"}\n",
    "\n",
    "student = input(\"coloca o nome ai \")\n",
    "\n",
    "if student in grades:\n",
    "    print(f\"{student}'s grade is {grades[student]}\")"
   ]
  },
  {
   "cell_type": "markdown",
   "id": "c462dd89",
   "metadata": {},
   "source": [
    "List comprehension"
   ]
  },
  {
   "cell_type": "code",
   "execution_count": 44,
   "id": "c083547a",
   "metadata": {},
   "outputs": [
    {
     "name": "stdout",
     "output_type": "stream",
     "text": [
      "[2, 4, 6, 8, 10, 12, 14, 16, 18, 20]\n",
      "[2, 4, 6, 8, 10, 12, 14, 16, 18, 20]\n",
      "['APPLE', 'ORANGE', 'BANANA', 'COCONUT']\n",
      "[1, 3, 5]\n"
     ]
    }
   ],
   "source": [
    "doubles = []\n",
    "for i in range(1,11):\n",
    "    doubles.append(i*2)\n",
    "\n",
    "print(doubles)\n",
    "\n",
    "doubles = [i*2 for i in range(1,11)]\n",
    "\n",
    "print(doubles)\n",
    "\n",
    "fruits = [\"apple\",\"orange\",\"banana\",\"coconut\"]\n",
    "fruits = [fruit.upper() for fruit in fruits]\n",
    "\n",
    "print(fruits)\n",
    "\n",
    "numbers = [1,-2,3,-4,5,-6]\n",
    "positive_nums = [num for num in numbers if num >= 0]\n",
    "\n",
    "print(positive_nums)"
   ]
  },
  {
   "cell_type": "markdown",
   "id": "9012a001",
   "metadata": {},
   "source": [
    "Match-case (Switch)"
   ]
  },
  {
   "cell_type": "code",
   "execution_count": 48,
   "id": "dddcee1a",
   "metadata": {},
   "outputs": [
    {
     "name": "stdout",
     "output_type": "stream",
     "text": [
      "Saturday\n",
      "True\n"
     ]
    }
   ],
   "source": [
    "def day_of_week(day):\n",
    "    match day:\n",
    "        case 1:\n",
    "            return \"Sunday\"\n",
    "        case 2:\n",
    "            return \"Monday\"\n",
    "        case 3:\n",
    "            return \"Tuesday\"\n",
    "        case 4:\n",
    "            return \"Wednesday\"\n",
    "        case 5:\n",
    "            return \"Thursday\"\n",
    "        case 6:\n",
    "            return \"Friday\"\n",
    "        case 7:\n",
    "            return \"Saturday\"\n",
    "        case _:\n",
    "            return \"Not a valid day\"\n",
    "        \n",
    "def is_weekend(day):\n",
    "    match day:\n",
    "        case \"Saturday\" | \"Sunday\":\n",
    "            return True\n",
    "        case \"Monday\" | \"Tuesday\" | \"Wednesday\" | \"Thursday\" | \"Friday\":\n",
    "            return False\n",
    "        case _:\n",
    "            return False\n",
    "        \n",
    "print(day_of_week(7))\n",
    "\n",
    "print(is_weekend(\"Sunday\"))"
   ]
  },
  {
   "cell_type": "markdown",
   "id": "120bdeb2",
   "metadata": {},
   "source": [
    "Modulos"
   ]
  },
  {
   "cell_type": "code",
   "execution_count": null,
   "id": "efa3a9a0",
   "metadata": {},
   "outputs": [
    {
     "name": "stdout",
     "output_type": "stream",
     "text": [
      "3.14159\n",
      "9\n",
      "27\n",
      "18.849539999999998\n"
     ]
    }
   ],
   "source": [
    "#print(help(\"modules\"))\n",
    "import exemplomodulo as em\n",
    "\n",
    "result = em.pi\n",
    "\n",
    "print(result)\n",
    "\n",
    "result = em.square(3)\n",
    "\n",
    "print(result)\n",
    "\n",
    "result = em.cube(3)\n",
    "\n",
    "print(result)\n",
    "\n",
    "result = em.circumference(3)\n",
    "\n",
    "print(result)\n",
    "\n",
    "result = em.area(3)\n",
    "\n",
    "print(result)"
   ]
  },
  {
   "cell_type": "markdown",
   "id": "d501ba68",
   "metadata": {},
   "source": [
    "Escopo de variavel \n",
    "(LEGB) Local -> Enclosed -> Global -> Built-in "
   ]
  },
  {
   "cell_type": "code",
   "execution_count": null,
   "id": "097e4f86",
   "metadata": {},
   "outputs": [
    {
     "name": "stdout",
     "output_type": "stream",
     "text": [
      "2\n",
      "1\n"
     ]
    }
   ],
   "source": [
    "#Enclosed\n",
    "\n",
    "def func1():\n",
    "    x=1\n",
    "    def func2():\n",
    "        x=2\n",
    "        print(x)\n",
    "    func2()\n",
    "    print(x)\n",
    "func1()\n"
   ]
  },
  {
   "cell_type": "markdown",
   "id": "49472eb8",
   "metadata": {},
   "source": [
    "POO"
   ]
  },
  {
   "cell_type": "markdown",
   "id": "9dc6821f",
   "metadata": {},
   "source": [
    "Class"
   ]
  },
  {
   "cell_type": "code",
   "execution_count": 13,
   "id": "ca265864",
   "metadata": {},
   "outputs": [
    {
     "name": "stdout",
     "output_type": "stream",
     "text": [
      "Carroça\n",
      "0\n",
      "marrom\n",
      "False\n",
      "vc dirige o Carroça\n",
      "vc parou o Carroça\n"
     ]
    }
   ],
   "source": [
    "#classes\n",
    "class Car:\n",
    "    def __init__(self,model,year,color, for_sale):\n",
    "        self.model = model\n",
    "        self.year = year\n",
    "        self.color = color\n",
    "        self.for_sale = for_sale\n",
    "    \n",
    "    def drive(self):\n",
    "        print(f\"vc dirige o {self.model}\")\n",
    "\n",
    "    def stop(self):\n",
    "        print(f\"vc parou o {self.model}\")\n",
    "\n",
    "car1 = Car(\"Carroça\", 0, \"marrom\", False)\n",
    "\n",
    "print(car1.model)\n",
    "print(car1.year)\n",
    "print(car1.color)\n",
    "print(car1.for_sale)\n",
    "\n",
    "car1.drive()\n",
    "car1.stop()"
   ]
  },
  {
   "cell_type": "markdown",
   "id": "f1734cd1",
   "metadata": {},
   "source": [
    "Class Variables"
   ]
  },
  {
   "cell_type": "code",
   "execution_count": 6,
   "id": "016e909b",
   "metadata": {},
   "outputs": [
    {
     "name": "stdout",
     "output_type": "stream",
     "text": [
      "ASKD\n",
      "77\n",
      "\n",
      "SDAD\n",
      "35\n",
      "\n",
      "2030\n",
      "2030\n",
      "2030\n",
      "\n",
      "2\n"
     ]
    }
   ],
   "source": [
    "class Student:\n",
    "\n",
    "    class_year = 2030\n",
    "    num_students = 0\n",
    "\n",
    "    def __init__(self, name, age):\n",
    "        self.name = name\n",
    "        self.age = age\n",
    "        Student.num_students+=1\n",
    "\n",
    "student1 = Student(\"ASKD\", 77)\n",
    "student2 = Student(\"SDAD\", 35)\n",
    "\n",
    "print(student1.name)\n",
    "print(student1.age)\n",
    "print()\n",
    "print(student2.name)\n",
    "print(student2.age)\n",
    "print()\n",
    "print(student1.class_year)\n",
    "print(student2.class_year)\n",
    "print(Student.class_year)\n",
    "print()\n",
    "print(Student.num_students)"
   ]
  },
  {
   "cell_type": "markdown",
   "id": "a91fa9c2",
   "metadata": {},
   "source": [
    "Herança"
   ]
  },
  {
   "cell_type": "code",
   "execution_count": 14,
   "id": "2e5650d1",
   "metadata": {},
   "outputs": [
    {
     "name": "stdout",
     "output_type": "stream",
     "text": [
      "Blooby\n",
      "True\n",
      "Blooby esta comendo\n",
      "Blooby esta dormindo\n",
      "WOOF!\n",
      "MEIAU\n",
      "ESQUIKI\n"
     ]
    }
   ],
   "source": [
    "class Animal:\n",
    "    def __init__(self,name):\n",
    "        self.name = name \n",
    "        self.is_alive = True \n",
    "\n",
    "    def eat(self):\n",
    "        print(f\"{self.name} esta comendo\")\n",
    "\n",
    "    def sleep(self):\n",
    "        print(f\"{self.name} esta dormindo\")\n",
    "\n",
    "class Dog(Animal):\n",
    "    def speak(self):\n",
    "        print(\"WOOF!\")\n",
    "\n",
    "class Cat(Animal):\n",
    "    def speak(self):\n",
    "        print(\"MEIAU\")\n",
    "\n",
    "class Mouse(Animal):\n",
    "    def speak(self):\n",
    "        print(\"ESQUIKI\")\n",
    "\n",
    "dog = Dog(\"Blooby\")\n",
    "cat = Cat(\"Bleeby\")\n",
    "mouse = Mouse(\"Bliby\")\n",
    "\n",
    "print(dog.name)\n",
    "print(dog.is_alive)\n",
    "dog.eat()\n",
    "dog.sleep()\n",
    "dog.speak()\n",
    "cat.speak()\n",
    "mouse.speak()"
   ]
  },
  {
   "cell_type": "markdown",
   "id": "0f927386",
   "metadata": {},
   "source": [
    "Herança multipla e Herança multi-nivel"
   ]
  },
  {
   "cell_type": "code",
   "execution_count": 22,
   "id": "5cfc413e",
   "metadata": {},
   "outputs": [
    {
     "name": "stdout",
     "output_type": "stream",
     "text": [
      "Esse Toelho ta fugindo\n",
      "Esse Tavião ta caçando\n",
      "Esse Teixe ta fugindo\n",
      "Esse Teixe ta caçando\n",
      "Teixe come\n",
      "Teixe dorme\n"
     ]
    }
   ],
   "source": [
    "class Animal:\n",
    "    def __init__(self,name):\n",
    "        self.name = name\n",
    "\n",
    "    def eat(self):\n",
    "        print(f\"{self.name} come\")\n",
    "\n",
    "    def sleep(self):\n",
    "        print(f\"{self.name} dorme\")\n",
    "\n",
    "class Prey(Animal):\n",
    "    def flee(self):\n",
    "        print(f\"Esse {self.name} ta fugindo\")\n",
    "\n",
    "class Predator(Animal):\n",
    "    def hunt(self):\n",
    "        print(f\"Esse {self.name} ta caçando\")\n",
    "\n",
    "class Rabbit(Prey):\n",
    "    pass\n",
    "\n",
    "class Hawk(Predator):\n",
    "    pass\n",
    "\n",
    "class Fish(Prey,Predator): \n",
    "    pass\n",
    "\n",
    "rabbit = Rabbit(\"Toelho\")\n",
    "hawk = Hawk(\"Tavião\")\n",
    "fish = Fish(\"Teixe\")\n",
    "\n",
    "rabbit.flee()\n",
    "hawk.hunt()\n",
    "fish.flee()\n",
    "fish.hunt()\n",
    "fish.eat()\n",
    "fish.sleep()"
   ]
  },
  {
   "cell_type": "markdown",
   "id": "5e4d86c8",
   "metadata": {},
   "source": [
    "super()"
   ]
  },
  {
   "cell_type": "code",
   "execution_count": 29,
   "id": "6aac0e61",
   "metadata": {},
   "outputs": [
    {
     "name": "stdout",
     "output_type": "stream",
     "text": [
      "vermelho\n",
      "True\n",
      "5\n",
      "a area é = 78.5\n",
      "It is vermelho and filled\n",
      "None\n"
     ]
    }
   ],
   "source": [
    "\n",
    "class Shape:\n",
    "    def __init__(self,color,is_filled):\n",
    "        self.color = color\n",
    "        self.is_filled = is_filled\n",
    "\n",
    "    def describe(self):\n",
    "        print(f\"It is {self.color} and {'filled' if self.is_filled else 'not filled'}\")\n",
    "\n",
    "class Circle(Shape):\n",
    "    def __init__(self,color, is_filled, radius):\n",
    "        super().__init__(color,is_filled)\n",
    "        self.radius = radius\n",
    "    def describe(self):\n",
    "        print(f\"a area é = {3.14*self.radius**2}\")\n",
    "        super().describe()\n",
    "\n",
    "class Square(Shape):\n",
    "    def __init__(self,color, is_filled, width):\n",
    "        super().__init__(color,is_filled)\n",
    "        self.width = width\n",
    "\n",
    "class Triangle(Shape):\n",
    "    def __init__(self,color, is_filled, width, height):\n",
    "        super().__init__(color,is_filled)\n",
    "        self.width = width\n",
    "        self.height = height\n",
    "\n",
    "circle = Circle(\"vermelho\",True,5)\n",
    "\n",
    "print(circle.color)\n",
    "print(circle.is_filled)\n",
    "print(circle.radius)\n",
    "print(circle.describe())"
   ]
  },
  {
   "cell_type": "markdown",
   "id": "72367e58",
   "metadata": {},
   "source": [
    "Polimorfismo"
   ]
  },
  {
   "cell_type": "code",
   "execution_count": 31,
   "id": "b0c5e8ae",
   "metadata": {},
   "outputs": [
    {
     "name": "stdout",
     "output_type": "stream",
     "text": [
      "50.26544\n",
      "25\n",
      "21.0\n"
     ]
    }
   ],
   "source": [
    "from abc import ABC, abstractmethod\n",
    "\n",
    "class Forma:\n",
    "\n",
    "    @abstractmethod\n",
    "    def area(self):\n",
    "        pass\n",
    "\n",
    "class Circulo(Forma):\n",
    "    def __init__(self,raio):\n",
    "        self.raio = raio\n",
    "    \n",
    "    def area(self):\n",
    "        return 3.14159*self.raio**2\n",
    "        \n",
    "\n",
    "class Quadrado(Forma):\n",
    "    def __init__(self, lado):\n",
    "        self.lado = lado\n",
    "\n",
    "    def area(self):\n",
    "        return self.lado**2\n",
    "        \n",
    "\n",
    "class Triangulo(Forma):\n",
    "    def __init__(self,base,altura):\n",
    "        self.base = base\n",
    "        self.altura = altura\n",
    "    \n",
    "    def area(self):\n",
    "        return (self.base*self.altura)/2\n",
    "        \n",
    "\n",
    "shapes = [Circulo(4),Quadrado(5),Triangulo(6,7)]\n",
    "\n",
    "for shape in shapes:\n",
    "    print(shape.area())"
   ]
  },
  {
   "cell_type": "markdown",
   "id": "b4ac7094",
   "metadata": {},
   "source": [
    "Static methods"
   ]
  },
  {
   "cell_type": "code",
   "execution_count": 35,
   "id": "7e6d9077",
   "metadata": {},
   "outputs": [
    {
     "name": "stdout",
     "output_type": "stream",
     "text": [
      "True\n",
      "Eugene = Manager\n",
      "Squidward = Cashier\n",
      "Bob = Cook\n",
      "True\n"
     ]
    }
   ],
   "source": [
    "class Employee:\n",
    "\n",
    "    def __init__(self,name,position):\n",
    "        self.name = name\n",
    "        self.position = position\n",
    "\n",
    "    def get_info(self):\n",
    "        return f\"{self.name} = {self.position}\"\n",
    "    \n",
    "    @staticmethod\n",
    "    def is_valid_position(position):\n",
    "        valid_positions = [\"Manager\",\"Cashier\",\"Cook\",\"Janitor\"]\n",
    "        return position in valid_positions\n",
    "    \n",
    "employee1 = Employee(\"Eugene\", \"Manager\")\n",
    "employee2 = Employee(\"Squidward\", \"Cashier\")\n",
    "employee3 = Employee(\"Bob\", \"Cook\")\n",
    "\n",
    "print(Employee.is_valid_position(\"Cook\")) \n",
    "print(employee1.get_info())\n",
    "print(employee2.get_info())\n",
    "print(employee3.get_info())\n",
    "print(Employee.is_valid_position(employee1.position)) "
   ]
  },
  {
   "cell_type": "markdown",
   "id": "60637c1a",
   "metadata": {},
   "source": [
    "Class methods"
   ]
  },
  {
   "cell_type": "code",
   "execution_count": 37,
   "id": "366e825d",
   "metadata": {},
   "outputs": [
    {
     "name": "stdout",
     "output_type": "stream",
     "text": [
      "Total number of studants: 3\n"
     ]
    }
   ],
   "source": [
    "class Student:\n",
    "\n",
    "    count = 0\n",
    "\n",
    "    def __init__(self, name, gpa):\n",
    "        self.name = name\n",
    "        self.gpa = gpa\n",
    "        Student.count+=1\n",
    "\n",
    "    #Instance method\n",
    "    def get_info(self):\n",
    "        return f\"{self.name} {self.gpa}\"\n",
    "    \n",
    "    @classmethod\n",
    "    def get_count(cls):\n",
    "        return f\"Total number of studants: {cls.count}\"\n",
    "    \n",
    "student1 = Student(\"dsad\", 3.2)\n",
    "student2 = Student(\"dsed\", 2.0)\n",
    "student3 = Student(\"dsid\", 4.0)\n",
    "    \n",
    "print(Student.get_count())"
   ]
  },
  {
   "cell_type": "markdown",
   "id": "9f0c14fa",
   "metadata": {},
   "source": [
    "Magic methods"
   ]
  },
  {
   "cell_type": "code",
   "execution_count": 8,
   "id": "8926259b",
   "metadata": {},
   "outputs": [
    {
     "name": "stdout",
     "output_type": "stream",
     "text": [
      "name: SpongeBola gpa: 3.2\n",
      "False\n",
      "True\n",
      "False\n",
      "5.2\n",
      "True\n",
      "SpongeBola\n"
     ]
    }
   ],
   "source": [
    "class Estudante:\n",
    "    \n",
    "    def __init__(self,name,gpa):\n",
    "        self.name = name\n",
    "        self.gpa = gpa\n",
    "\n",
    "    def __str__(self):\n",
    "        return f\"name: {self.name} gpa: {self.gpa}\"\n",
    "    \n",
    "    def __eq__(self, other):\n",
    "        return self.name == other.name\n",
    "    \n",
    "    def __gt__(self,other):\n",
    "        return self.gpa > other.gpa\n",
    "    \n",
    "    def __lt__(self,other):\n",
    "        return self.gpa < other.gpa\n",
    "    \n",
    "    def __add__(self,other):\n",
    "        return self.gpa + other.gpa\n",
    "    \n",
    "    def __contains__(self,keyword):\n",
    "        return keyword in self.name \n",
    "    \n",
    "    def __getitem__(self,key):\n",
    "        if key == \"name\":\n",
    "            return self.name\n",
    "        if key == \"gpa\":\n",
    "            return self.gpa\n",
    "    \n",
    "\n",
    "student1 = Estudante(\"SpongeBola\",3.2)\n",
    "student2 = Estudante(\"Pacrick\",2)\n",
    "\n",
    "print(student1)\n",
    "print(student1 == student2)\n",
    "print(student1 > student2)\n",
    "print(student1 < student2)\n",
    "print(student1+student2)\n",
    "print(\"SpongeBola\" in student1)\n",
    "print(student1[\"name\"])"
   ]
  },
  {
   "cell_type": "markdown",
   "id": "4c4aeb1f",
   "metadata": {},
   "source": [
    "Getters, setters e deleters"
   ]
  },
  {
   "cell_type": "code",
   "execution_count": null,
   "id": "8b137b06",
   "metadata": {},
   "outputs": [
    {
     "name": "stdout",
     "output_type": "stream",
     "text": [
      "Width foi deletado\n",
      "Height foi deletado\n"
     ]
    },
    {
     "ename": "AttributeError",
     "evalue": "'Retangulo' object has no attribute '_width'",
     "output_type": "error",
     "traceback": [
      "\u001b[1;31m---------------------------------------------------------------------------\u001b[0m",
      "\u001b[1;31mAttributeError\u001b[0m                            Traceback (most recent call last)",
      "Cell \u001b[1;32mIn[18], line 44\u001b[0m\n\u001b[0;32m     42\u001b[0m \u001b[38;5;28;01mdel\u001b[39;00m retangulo\u001b[38;5;241m.\u001b[39mwidth\n\u001b[0;32m     43\u001b[0m \u001b[38;5;28;01mdel\u001b[39;00m retangulo\u001b[38;5;241m.\u001b[39mheight\n\u001b[1;32m---> 44\u001b[0m \u001b[38;5;28mprint\u001b[39m(\u001b[43mretangulo\u001b[49m\u001b[38;5;241;43m.\u001b[39;49m\u001b[43mwidth\u001b[49m)\n\u001b[0;32m     45\u001b[0m \u001b[38;5;28mprint\u001b[39m(retangulo\u001b[38;5;241m.\u001b[39mheight)\n",
      "Cell \u001b[1;32mIn[18], line 8\u001b[0m, in \u001b[0;36mRetangulo.width\u001b[1;34m(self)\u001b[0m\n\u001b[0;32m      6\u001b[0m \u001b[38;5;129m@property\u001b[39m \u001b[38;5;66;03m#get\u001b[39;00m\n\u001b[0;32m      7\u001b[0m \u001b[38;5;28;01mdef\u001b[39;00m \u001b[38;5;21mwidth\u001b[39m(\u001b[38;5;28mself\u001b[39m):\n\u001b[1;32m----> 8\u001b[0m     \u001b[38;5;28;01mreturn\u001b[39;00m \u001b[38;5;124mf\u001b[39m\u001b[38;5;124m\"\u001b[39m\u001b[38;5;132;01m{\u001b[39;00m\u001b[38;5;28;43mself\u001b[39;49m\u001b[38;5;241;43m.\u001b[39;49m\u001b[43m_width\u001b[49m\u001b[38;5;132;01m:\u001b[39;00m\u001b[38;5;124m.1f\u001b[39m\u001b[38;5;132;01m}\u001b[39;00m\u001b[38;5;124mcm\u001b[39m\u001b[38;5;124m\"\u001b[39m\n",
      "\u001b[1;31mAttributeError\u001b[0m: 'Retangulo' object has no attribute '_width'"
     ]
    }
   ],
   "source": [
    "class Retangulo:\n",
    "    def __init__(self, width, height):\n",
    "        self._width = width #pra deixar privado precisa do _\n",
    "        self._height = height\n",
    "\n",
    "    @property #get\n",
    "    def width(self):\n",
    "        return f\"{self._width:.1f}cm\"\n",
    "    \n",
    "    @property\n",
    "    def height(self):\n",
    "        return f\"{self._height:.1f}cm\"\n",
    "    \n",
    "    @width.setter #set\n",
    "    def width(self,new_width):\n",
    "        if new_width > 0:\n",
    "            self._width = new_width\n",
    "        else:\n",
    "            print(\"Width must be greater than zero\")\n",
    "\n",
    "    @height.setter \n",
    "    def height(self,new_height):\n",
    "        if new_height > 0:\n",
    "            self._height = new_height\n",
    "        else:\n",
    "            print(\"Height must be greater than zero\")\n",
    "\n",
    "    @width.deleter\n",
    "    def width(self):\n",
    "        del self._width\n",
    "        print(\"Width foi deletado\")\n",
    "\n",
    "    @height.deleter\n",
    "    def height(self):\n",
    "        del self._height\n",
    "        print(\"Height foi deletado\")\n",
    "\n",
    "retangulo = Retangulo(3,4)\n",
    "\n",
    "retangulo.width = 5\n",
    "\n",
    "del retangulo.width\n",
    "del retangulo.height\n",
    "print(retangulo.width)\n",
    "print(retangulo.height)"
   ]
  },
  {
   "cell_type": "markdown",
   "id": "d14f304b",
   "metadata": {},
   "source": [
    "Decorators"
   ]
  },
  {
   "cell_type": "code",
   "execution_count": 4,
   "id": "9919e18a",
   "metadata": {},
   "outputs": [
    {
     "name": "stdout",
     "output_type": "stream",
     "text": [
      "*You add fudge*\n",
      "*You add sprinkles*\n",
      "Here is ur Vanilla ice cream 🍦\n"
     ]
    }
   ],
   "source": [
    "def add_sprinkles(func):\n",
    "    def wrapper(*args,**kwargs):\n",
    "        print('*You add sprinkles*')\n",
    "        func(*args,**kwargs)\n",
    "    return wrapper \n",
    "\n",
    "def add_fudge(func):\n",
    "    def wrapper(*args, **kwargs):\n",
    "        print(\"*You add fudge*\")\n",
    "        func(*args, **kwargs)\n",
    "    return wrapper\n",
    "\n",
    "@add_fudge\n",
    "@add_sprinkles\n",
    "def get_ice_cream(flavor):\n",
    "    print(f\"Here is ur {flavor} ice cream 🍦\")\n",
    "\n",
    "\n",
    "get_ice_cream(\"Vanilla\")"
   ]
  },
  {
   "cell_type": "markdown",
   "id": "cb9bebe6",
   "metadata": {},
   "source": [
    "Exception"
   ]
  },
  {
   "cell_type": "code",
   "execution_count": 9,
   "id": "04c90ae0",
   "metadata": {},
   "outputs": [
    {
     "name": "stdout",
     "output_type": "stream",
     "text": [
      "errou o tipo de valor cara\n",
      "Do some cleanup here\n"
     ]
    }
   ],
   "source": [
    "\n",
    "try:\n",
    "    numb = int(input(\"Enter a number: \"))\n",
    "    print(1/numb)\n",
    "\n",
    "except ZeroDivisionError:\n",
    "    print(\"Não pode divisão por 0\")\n",
    "\n",
    "except ValueError:\n",
    "    print(\"errou o tipo de valor cara\")\n",
    "\n",
    "except Exception:\n",
    "    print(\"deu errado\")\n",
    "\n",
    "finally:\n",
    "    print(\"Do some cleanup here\")"
   ]
  },
  {
   "cell_type": "markdown",
   "id": "9b466166",
   "metadata": {},
   "source": [
    "File detection"
   ]
  },
  {
   "cell_type": "code",
   "execution_count": 13,
   "id": "157cefe6",
   "metadata": {},
   "outputs": [
    {
     "name": "stdout",
     "output_type": "stream",
     "text": [
      "The location 'ExemploSlotMachine' exists\n",
      "that is a directory\n"
     ]
    }
   ],
   "source": [
    "import os \n",
    "\n",
    "file_path=\"ExemploSlotMachine\"\n",
    "\n",
    "if os.path.exists(file_path):\n",
    "    print(f\"The location '{file_path}' exists\")\n",
    "\n",
    "    if os.path.isfile(file_path):\n",
    "        print(\"that is a file\")\n",
    "    elif os.path.isdir(file_path):\n",
    "        print(\"that is a directory\")\n",
    "else:\n",
    "    print(\"That location doesn't exist\")"
   ]
  },
  {
   "cell_type": "markdown",
   "id": "c353f4bc",
   "metadata": {},
   "source": [
    "Python writing files"
   ]
  },
  {
   "cell_type": "markdown",
   "id": "995913f7",
   "metadata": {},
   "source": [
    "TXT"
   ]
  },
  {
   "cell_type": "code",
   "execution_count": null,
   "id": "92329aa9",
   "metadata": {},
   "outputs": [
    {
     "name": "stdout",
     "output_type": "stream",
     "text": [
      "txt file 'output.txt' was created\n"
     ]
    }
   ],
   "source": [
    "\n",
    "txt_data = \"I like books\"\n",
    "\n",
    "file_path = \"output.txt\"\n",
    "\n",
    "with open(file_path,mode = \"w\") as file: #write\n",
    "    file.write(txt_data)\n",
    "    print(f\"txt file '{file_path}' was created\")"
   ]
  },
  {
   "cell_type": "code",
   "execution_count": 36,
   "id": "352ac464",
   "metadata": {},
   "outputs": [
    {
     "name": "stdout",
     "output_type": "stream",
     "text": [
      "txt file 'output.txt' was created\n"
     ]
    }
   ],
   "source": [
    "txt_data = \"I like books\"\n",
    "\n",
    "file_path = \"output.txt\"\n",
    "\n",
    "try:\n",
    "    with open(file_path,mode = \"x\") as file: #write if it doesn't already exist\n",
    "        file.write(txt_data)\n",
    "        print(f\"txt file '{file_path}' was created\")\n",
    "\n",
    "except FileExistsError:\n",
    "    print(\"esse arquivo já existe\")"
   ]
  },
  {
   "cell_type": "code",
   "execution_count": 37,
   "id": "30fb1722",
   "metadata": {},
   "outputs": [
    {
     "name": "stdout",
     "output_type": "stream",
     "text": [
      "txt file 'output.txt' was created\n"
     ]
    }
   ],
   "source": [
    "txt_data = \"I like books\"\n",
    "\n",
    "file_path = \"output.txt\"\n",
    "\n",
    "try:\n",
    "    with open(file_path,mode = \"a\") as file: #write if it doesn't already exist, if there is new data, it will be appended to the end\n",
    "        file.write(\"\\n\" + txt_data)\n",
    "        print(f\"txt file '{file_path}' was created\")\n",
    "\n",
    "except FileExistsError:\n",
    "    print(\"esse arquivo já existe\")"
   ]
  },
  {
   "cell_type": "code",
   "execution_count": 38,
   "id": "c65ca4cc",
   "metadata": {},
   "outputs": [
    {
     "name": "stdout",
     "output_type": "stream",
     "text": [
      "txt file 'output.txt' was created\n"
     ]
    }
   ],
   "source": [
    "employees = [\"Eugene\", \"Squidward\", \"Spongebob\",\"Patrick\"]\n",
    "\n",
    "try:\n",
    "    with open(file_path,mode = \"w\") as file: #write if it doesn't already exist\n",
    "        for employee in employees:\n",
    "            file.write(employee + \"\\n\")\n",
    "        print(f\"txt file '{file_path}' was created\")\n",
    "\n",
    "except FileExistsError:\n",
    "    print(\"esse arquivo já existe\")"
   ]
  },
  {
   "cell_type": "markdown",
   "id": "b57ee500",
   "metadata": {},
   "source": [
    "JSON"
   ]
  },
  {
   "cell_type": "code",
   "execution_count": 41,
   "id": "82856f48",
   "metadata": {},
   "outputs": [
    {
     "name": "stdout",
     "output_type": "stream",
     "text": [
      "json file 'output.json' was created\n"
     ]
    }
   ],
   "source": [
    "import json\n",
    "\n",
    "employee = {\n",
    "    \"name\": \"Spongebob\",\n",
    "    \"age\": 30,\n",
    "    \"job\": \"Cook\"\n",
    "\n",
    "}\n",
    "\n",
    "file_path = \"output.json\"\n",
    "\n",
    "try:\n",
    "    with open(file_path,mode = \"w\") as file: #write if it doesn't already exist, if there is new data, it will be appended to the end\n",
    "        json.dump(employee, file, indent=4)\n",
    "        print(f\"json file '{file_path}' was created\")\n",
    "\n",
    "except FileExistsError:\n",
    "    print(\"esse arquivo já existe\")"
   ]
  },
  {
   "cell_type": "markdown",
   "id": "3ea4657e",
   "metadata": {},
   "source": [
    "CSV"
   ]
  },
  {
   "cell_type": "code",
   "execution_count": 43,
   "id": "0d1da229",
   "metadata": {},
   "outputs": [
    {
     "name": "stdout",
     "output_type": "stream",
     "text": [
      "csv file 'output.csv' was created\n"
     ]
    }
   ],
   "source": [
    "import csv \n",
    "\n",
    "employees = [[\"Name\", \"Age\", \"Job\"],\n",
    "             [\"Spongebob\",30, \"Cook\"],\n",
    "             [\"Patrick\",37,\"Unemployed\"],\n",
    "             [\"Sandy\",27,\"Scientist\"]]\n",
    "\n",
    "file_path = \"output.csv\"\n",
    "\n",
    "try:\n",
    "    with open(file_path,mode = \"w\", newline=\"\") as file:\n",
    "        writer = csv.writer(file)\n",
    "        for row in employees:\n",
    "            writer.writerow(row)\n",
    "        print(f\"csv file '{file_path}' was created\")\n",
    "\n",
    "except FileExistsError:\n",
    "    print(\"esse arquivo já existe\")"
   ]
  },
  {
   "cell_type": "markdown",
   "id": "3a075416",
   "metadata": {},
   "source": [
    "Reading files"
   ]
  },
  {
   "cell_type": "markdown",
   "id": "0ae33c96",
   "metadata": {},
   "source": [
    "TXT"
   ]
  },
  {
   "cell_type": "code",
   "execution_count": 49,
   "id": "176f3283",
   "metadata": {},
   "outputs": [
    {
     "name": "stdout",
     "output_type": "stream",
     "text": [
      "Eugene\n",
      "Squidward\n",
      "Spongebob\n",
      "Patrick\n",
      "\n"
     ]
    }
   ],
   "source": [
    "file_path = \"output.txt\"\n",
    "\n",
    "try:\n",
    "    with open(file_path, \"r\") as file:\n",
    "        content = file.read()\n",
    "        print(content)\n",
    "except FileNotFoundError:\n",
    "    print(\"That file was not found\")\n",
    "\n",
    "except PermissionError:\n",
    "    print(\"You do not have permission\")"
   ]
  },
  {
   "cell_type": "markdown",
   "id": "6e2276ae",
   "metadata": {},
   "source": [
    "JSON"
   ]
  },
  {
   "cell_type": "code",
   "execution_count": 50,
   "id": "19f7f265",
   "metadata": {},
   "outputs": [
    {
     "name": "stdout",
     "output_type": "stream",
     "text": [
      "{'name': 'Spongebob', 'age': 30, 'job': 'Cook'}\n",
      "Spongebob\n",
      "30\n",
      "Cook\n"
     ]
    }
   ],
   "source": [
    "import json\n",
    "\n",
    "file_path = \"output.json\"\n",
    "\n",
    "try:\n",
    "    with open(file_path, \"r\") as file:\n",
    "        content = json.load(file)\n",
    "        print(content)\n",
    "        print(content[\"name\"])\n",
    "        print(content[\"age\"])\n",
    "        print(content[\"job\"])\n",
    "except FileNotFoundError:\n",
    "    print(\"That file was not found\")\n",
    "\n",
    "except PermissionError:\n",
    "    print(\"You do not have permission\")"
   ]
  },
  {
   "cell_type": "code",
   "execution_count": null,
   "id": "16bf438b",
   "metadata": {},
   "outputs": [
    {
     "name": "stdout",
     "output_type": "stream",
     "text": [
      "['Name', 'Age', 'Job']\n",
      "['Spongebob', '30', 'Cook']\n",
      "['Patrick', '37', 'Unemployed']\n",
      "['Sandy', '27', 'Scientist']\n"
     ]
    }
   ],
   "source": [
    "import csv\n",
    "\n",
    "file_path = \"output.csv\"\n",
    "\n",
    "try:\n",
    "    with open(file_path, \"r\") as file:\n",
    "        content = csv.reader(file)\n",
    "        for line in content:\n",
    "            print(line)\n",
    "        \n",
    "\n",
    "except FileNotFoundError:\n",
    "    print(\"That file was not found\")\n",
    "\n",
    "except PermissionError:\n",
    "    print(\"You do not have permission\")"
   ]
  },
  {
   "cell_type": "code",
   "execution_count": 67,
   "id": "ce1d33de",
   "metadata": {},
   "outputs": [
    {
     "name": "stdout",
     "output_type": "stream",
     "text": [
      "2025-02-01\n",
      "2025-06-03\n",
      "12:30:00\n",
      "17:51:50 03/06/2025\n",
      "Target date has passed\n"
     ]
    }
   ],
   "source": [
    "import datetime\n",
    "\n",
    "date =  datetime.date(2025,2,1)\n",
    "\n",
    "today = datetime.date.today()\n",
    "\n",
    "time = datetime.time(12,30,0)\n",
    "\n",
    "now = datetime.datetime.now()\n",
    "\n",
    "now = now.strftime(\"%H:%M:%S %d/%m/%Y\")\n",
    "\n",
    "print(date)\n",
    "print(today)\n",
    "print(time)\n",
    "print(now)\n",
    "\n",
    "target_datetime = datetime.datetime(2014,1,2,12,30,1)\n",
    "current_datetime = datetime.datetime.now()\n",
    "\n",
    "if target_datetime < current_datetime:\n",
    "    print(\"Target date has passed\")\n",
    "else:\n",
    "    print(\"Target date has NOT passed\")"
   ]
  },
  {
   "cell_type": "markdown",
   "id": "43b02c1e",
   "metadata": {},
   "source": [
    "multithreading"
   ]
  },
  {
   "cell_type": "code",
   "execution_count": 73,
   "id": "eee2c952",
   "metadata": {},
   "outputs": [
    {
     "name": "stdout",
     "output_type": "stream",
     "text": [
      "You take out the trash\n",
      "You get the mail\n",
      "You finish walking the dog Scooby Doo\n",
      "acabou\n"
     ]
    }
   ],
   "source": [
    "import threading\n",
    "import time\n",
    "\n",
    "def walk_dog(first, last):\n",
    "    time.sleep(8)\n",
    "    print(f\"You finish walking the dog {first} {last}\")\n",
    "\n",
    "def take_out_trash():\n",
    "    time.sleep(2)\n",
    "    print(\"You take out the trash\")\n",
    "\n",
    "def get_mail():\n",
    "    time.sleep(4)\n",
    "    print(\"You get the mail\")\n",
    "\n",
    "\n",
    "\n",
    "chore1 = threading.Thread(target=walk_dog, args=(\"Scooby\",\"Doo\"))\n",
    "chore1.start()  \n",
    "\n",
    "chore2 = threading.Thread(target=take_out_trash)\n",
    "chore2.start() \n",
    "\n",
    "chore3 = threading.Thread(target=get_mail)\n",
    "chore3.start()\n",
    "\n",
    "chore1.join()\n",
    "chore2.join()\n",
    "chore3.join()\n",
    "\n",
    "print(\"acabou\")"
   ]
  },
  {
   "cell_type": "markdown",
   "id": "7da4b640",
   "metadata": {},
   "source": [
    "API"
   ]
  },
  {
   "cell_type": "code",
   "execution_count": 84,
   "id": "89fa1794",
   "metadata": {},
   "outputs": [
    {
     "name": "stdout",
     "output_type": "stream",
     "text": [
      "Name: Typhlosion\n",
      "Id: 157\n",
      "Height: 17\n",
      "Weight: 795\n"
     ]
    }
   ],
   "source": [
    "import requests\n",
    "\n",
    "base_url = \"https://pokeapi.co/api/v2/\"\n",
    "\n",
    "def get_pokemon_info(name):\n",
    "    url = f\"{base_url}/pokemon/{name}\"\n",
    "    response = requests.get(url)\n",
    "    \n",
    "    if response.status_code == 200:\n",
    "        pokemon_data = response.json()\n",
    "        return pokemon_data\n",
    "    else:\n",
    "        print(f\"failed to retrieve data {response.status_code}\")\n",
    "\n",
    "pokemon_name = \"Typhlosion\"\n",
    "pokemon_info = get_pokemon_info(pokemon_name)\n",
    "\n",
    "if pokemon_info:\n",
    "    print(f\"Name: {pokemon_info[\"name\"].capitalize()}\")\n",
    "    print(f\"Id: {pokemon_info[\"id\"]}\")\n",
    "    print(f\"Height: {pokemon_info[\"height\"]}\")\n",
    "    print(f\"Weight: {pokemon_info[\"weight\"]}\")"
   ]
  }
 ],
 "metadata": {
  "kernelspec": {
   "display_name": "Python 3",
   "language": "python",
   "name": "python3"
  },
  "language_info": {
   "codemirror_mode": {
    "name": "ipython",
    "version": 3
   },
   "file_extension": ".py",
   "mimetype": "text/x-python",
   "name": "python",
   "nbconvert_exporter": "python",
   "pygments_lexer": "ipython3",
   "version": "3.12.5"
  }
 },
 "nbformat": 4,
 "nbformat_minor": 5
}
